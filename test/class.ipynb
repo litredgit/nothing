{
 "cells": [
  {
   "cell_type": "code",
   "execution_count": 1,
   "metadata": {},
   "outputs": [],
   "source": [
    "#类与实例:\n",
    "class Circle(object):\n",
    "    pi = 3.14\n",
    "    def __init__(self, r) -> None:\n",
    "        self.r = r\n",
    "    def get_area(self):\n",
    "       \"\"\" 圆的面积 \"\"\"\n",
    "       return self.r**2 * self.pi"
   ]
  },
  {
   "cell_type": "code",
   "execution_count": 2,
   "metadata": {},
   "outputs": [
    {
     "name": "stdout",
     "output_type": "stream",
     "text": [
      "1\n",
      "2\n"
     ]
    }
   ],
   "source": [
    "circle1 = Circle(1)\n",
    "circle2 = Circle(2)\n",
    "print(circle1.r)\n",
    "print(circle2.r)"
   ]
  },
  {
   "cell_type": "code",
   "execution_count": 3,
   "metadata": {},
   "outputs": [
    {
     "name": "stdout",
     "output_type": "stream",
     "text": [
      "----未修改前-----\n",
      "pi=\t 3.14\n",
      "circle1.pi=\t 3.14\n",
      "circle2.pi=\t 3.14\n",
      "----通过类名修改后-----\n",
      "pi=\t 3.14159\n",
      "circle1.pi=\t 3.14159\n",
      "circle2.pi=\t 3.14159\n",
      "----通过circle1实例名修改后-----\n",
      "pi=\t 3.14159\n",
      "circle1.pi=\t 3.14111\n",
      "circle2.pi=\t 3.14159\n",
      "----删除circle1实例属性pi-----\n",
      "pi=\t 3.14159\n",
      "circle1.pi=\t 3.14159\n",
      "circle2.pi=\t 3.14159\n",
      "3.14159\n"
     ]
    }
   ],
   "source": [
    "print('----未修改前-----')\n",
    "print('pi=\\t', Circle.pi)\n",
    "print('circle1.pi=\\t', circle1.pi)  #  3.14\n",
    "print('circle2.pi=\\t', circle2.pi)  #  3.14\n",
    "print('----通过类名修改后-----')\n",
    "Circle.pi = 3.14159  # 通过类名修改类属性，所有实例的类属性被改变\n",
    "print('pi=\\t', Circle.pi)   #  3.14159\n",
    "print('circle1.pi=\\t', circle1.pi)   #  3.14159\n",
    "print('circle2.pi=\\t', circle2.pi)   #  3.14159\n",
    "print('----通过circle1实例名修改后-----')\n",
    "circle1.pi=3.14111   # 实际上这里是给circle1创建了一个与类属性同名的实例属性\n",
    "print('pi=\\t', Circle.pi)     #  3.14159\n",
    "print('circle1.pi=\\t', circle1.pi)  # 实例属性的访问优先级比类属性高，所以是3.14111   \n",
    "print('circle2.pi=\\t', circle2.pi)  #  3.14159\n",
    "print('----删除circle1实例属性pi-----')\n",
    "del circle1.pi\n",
    "print('pi=\\t', Circle.pi)\n",
    "print('circle1.pi=\\t', circle1.pi)\n",
    "print('circle2.pi=\\t', circle2.pi)\n",
    "\n",
    "print(circle1.get_area())"
   ]
  }
 ],
 "metadata": {
  "kernelspec": {
   "display_name": "api",
   "language": "python",
   "name": "python3"
  },
  "language_info": {
   "codemirror_mode": {
    "name": "ipython",
    "version": 3
   },
   "file_extension": ".py",
   "mimetype": "text/x-python",
   "name": "python",
   "nbconvert_exporter": "python",
   "pygments_lexer": "ipython3",
   "version": "3.11.5"
  }
 },
 "nbformat": 4,
 "nbformat_minor": 2
}
